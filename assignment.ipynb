{
 "cells": [
  {
   "attachments": {},
   "cell_type": "markdown",
   "metadata": {},
   "source": [
    "## Tasks to be performed \n",
    "* Read the data, show it and Count the number of records.\n",
    "* Describe the data with a describe function.\n",
    "* If there is any duplicate value drop it.\n",
    "* Use limit function for showcasing a limited number of records.\n",
    "* If you find the column name is not suitable, change the column name.[optional]\n",
    "* Select the subset of the columns.\n",
    "* If there is any null value, fill it with any random value or drop it.\n",
    "* Filter the data based on different columns or variables and do the best analysis.\n",
    "\n",
    "For example: We can filter a data frame using multiple\n",
    "conditions using AND(&), OR(|) and NOT(~) conditions. For\n",
    "example, we may want to find out all the dif erent\n",
    "\n",
    "infection_case in Daegu Province with more than 10 confirmed cases.\n",
    "* Sort the number of confirmed cases. Confirmed column is there in the dataset. Check with descending sort also.\n",
    "* In case of any wrong data type, cast that data type from integer to string or string to integer.\n",
    "* Use group by on top of province and city column and agg it with sum of confirmed cases. For example\n",
    "  df.groupBy([\"province\",\"city\"]).agg(function.sum(\"confirmed\")\n",
    "\n",
    "For joins we will need one more file you can use region file.\n",
    "User different different join methods.for example\n",
    "cases.join(regions, ['province','city'],how='left')"
   ]
  },
  {
   "cell_type": "code",
   "execution_count": 51,
   "metadata": {},
   "outputs": [],
   "source": [
    "from pyspark import SparkContext\n",
    "from pyspark.sql import SparkSession\n",
    "from pyspark.sql import SQLContext\n",
    "from pyspark.sql.functions import *"
   ]
  },
  {
   "cell_type": "code",
   "execution_count": 52,
   "metadata": {},
   "outputs": [],
   "source": [
    "spark = SparkSession.builder.appName(\"spark-assignment\").getOrCreate()"
   ]
  },
  {
   "cell_type": "code",
   "execution_count": 53,
   "metadata": {},
   "outputs": [
    {
     "data": {
      "text/html": [
       "\n",
       "            <div>\n",
       "                <p><b>SparkSession - in-memory</b></p>\n",
       "                \n",
       "        <div>\n",
       "            <p><b>SparkContext</b></p>\n",
       "\n",
       "            <p><a href=\"http://host.docker.internal:4040\">Spark UI</a></p>\n",
       "\n",
       "            <dl>\n",
       "              <dt>Version</dt>\n",
       "                <dd><code>v3.4.0</code></dd>\n",
       "              <dt>Master</dt>\n",
       "                <dd><code>local[*]</code></dd>\n",
       "              <dt>AppName</dt>\n",
       "                <dd><code>spark-assignment</code></dd>\n",
       "            </dl>\n",
       "        </div>\n",
       "        \n",
       "            </div>\n",
       "        "
      ],
      "text/plain": [
       "<pyspark.sql.session.SparkSession at 0x237c0b49590>"
      ]
     },
     "execution_count": 53,
     "metadata": {},
     "output_type": "execute_result"
    }
   ],
   "source": [
    "spark"
   ]
  },
  {
   "cell_type": "code",
   "execution_count": 54,
   "metadata": {},
   "outputs": [],
   "source": [
    "case_df = spark.read.csv(r\"C:\\Users\\Azhar\\Desktop\\Spark Assignment\\Case.csv\", header= True, inferSchema=True)\n",
    "region_df = spark.read.csv(r\"C:\\Users\\Azhar\\Desktop\\Spark Assignment\\Region.csv\", header=True, inferSchema=True)\n",
    "time_prov_df = spark.read.csv(r\"C:\\Users\\Azhar\\Desktop\\Spark Assignment\\TimeProvince.csv\", header=True,inferSchema=True)"
   ]
  },
  {
   "attachments": {},
   "cell_type": "markdown",
   "metadata": {},
   "source": [
    "### Read the data, show it and Count the number of records."
   ]
  },
  {
   "cell_type": "code",
   "execution_count": 55,
   "metadata": {},
   "outputs": [
    {
     "name": "stdout",
     "output_type": "stream",
     "text": [
      "+--------+--------+---------------+-----+--------------------+---------+---------+----------+\n",
      "| case_id|province|           city|group|      infection_case|confirmed| latitude| longitude|\n",
      "+--------+--------+---------------+-----+--------------------+---------+---------+----------+\n",
      "| 1000001|   Seoul|     Yongsan-gu| true|       Itaewon Clubs|      139|37.538621|126.992652|\n",
      "| 1000002|   Seoul|      Gwanak-gu| true|             Richway|      119| 37.48208|126.901384|\n",
      "| 1000003|   Seoul|        Guro-gu| true| Guro-gu Call Center|       95|37.508163|126.884387|\n",
      "| 1000004|   Seoul|   Yangcheon-gu| true|Yangcheon Table T...|       43|37.546061|126.874209|\n",
      "| 1000005|   Seoul|      Dobong-gu| true|     Day Care Center|       43|37.679422|127.044374|\n",
      "| 1000006|   Seoul|        Guro-gu| true|Manmin Central Ch...|       41|37.481059|126.894343|\n",
      "| 1000007|   Seoul|from other city| true|SMR Newly Planted...|       36|        -|         -|\n",
      "| 1000008|   Seoul|  Dongdaemun-gu| true|       Dongan Church|       17|37.592888|127.056766|\n",
      "| 1000009|   Seoul|from other city| true|Coupang Logistics...|       25|        -|         -|\n",
      "| 1000010|   Seoul|      Gwanak-gu| true|     Wangsung Church|       30|37.481735|126.930121|\n",
      "+--------+--------+---------------+-----+--------------------+---------+---------+----------+\n",
      "only showing top 10 rows\n",
      "\n"
     ]
    }
   ],
   "source": [
    "case_df.show(10)"
   ]
  },
  {
   "cell_type": "code",
   "execution_count": 56,
   "metadata": {},
   "outputs": [
    {
     "name": "stdout",
     "output_type": "stream",
     "text": [
      "+-----+--------+------------+---------+----------+-----------------------+------------------+----------------+-------------+------------------------+-------------------+------------------+\n",
      "| code|province|        city| latitude| longitude|elementary_school_count|kindergarten_count|university_count|academy_ratio|elderly_population_ratio|elderly_alone_ratio|nursing_home_count|\n",
      "+-----+--------+------------+---------+----------+-----------------------+------------------+----------------+-------------+------------------------+-------------------+------------------+\n",
      "|10000|   Seoul|       Seoul|37.566953|126.977977|                    607|               830|              48|         1.44|                   15.38|                5.8|             22739|\n",
      "|10010|   Seoul|  Gangnam-gu|37.518421|127.047222|                     33|                38|               0|         4.18|                   13.17|                4.3|              3088|\n",
      "|10020|   Seoul| Gangdong-gu|37.530492|127.123837|                     27|                32|               0|         1.54|                   14.55|                5.4|              1023|\n",
      "|10030|   Seoul|  Gangbuk-gu|37.639938|127.025508|                     14|                21|               0|         0.67|                   19.49|                8.5|               628|\n",
      "|10040|   Seoul|  Gangseo-gu|37.551166|126.849506|                     36|                56|               1|         1.17|                   14.39|                5.7|              1080|\n",
      "|10050|   Seoul|   Gwanak-gu| 37.47829|126.951502|                     22|                33|               1|         0.89|                   15.12|                4.9|               909|\n",
      "|10060|   Seoul| Gwangjin-gu|37.538712|127.082366|                     22|                33|               3|         1.16|                   13.75|                4.8|               723|\n",
      "|10070|   Seoul|     Guro-gu|37.495632| 126.88765|                     26|                34|               3|          1.0|                   16.21|                5.7|               741|\n",
      "|10080|   Seoul|Geumcheon-gu|37.456852|126.895229|                     18|                19|               0|         0.96|                   16.15|                6.7|               475|\n",
      "|10090|   Seoul|    Nowon-gu|37.654259|127.056294|                     42|                66|               6|         1.39|                    15.4|                7.4|               952|\n",
      "+-----+--------+------------+---------+----------+-----------------------+------------------+----------------+-------------+------------------------+-------------------+------------------+\n",
      "only showing top 10 rows\n",
      "\n"
     ]
    }
   ],
   "source": [
    "region_df.show(10)"
   ]
  },
  {
   "cell_type": "code",
   "execution_count": 57,
   "metadata": {},
   "outputs": [
    {
     "name": "stdout",
     "output_type": "stream",
     "text": [
      "+----------+----+-----------+---------+--------+--------+\n",
      "|      date|time|   province|confirmed|released|deceased|\n",
      "+----------+----+-----------+---------+--------+--------+\n",
      "|2020-01-20|  16|      Seoul|        0|       0|       0|\n",
      "|2020-01-20|  16|      Busan|        0|       0|       0|\n",
      "|2020-01-20|  16|      Daegu|        0|       0|       0|\n",
      "|2020-01-20|  16|    Incheon|        1|       0|       0|\n",
      "|2020-01-20|  16|    Gwangju|        0|       0|       0|\n",
      "|2020-01-20|  16|    Daejeon|        0|       0|       0|\n",
      "|2020-01-20|  16|      Ulsan|        0|       0|       0|\n",
      "|2020-01-20|  16|     Sejong|        0|       0|       0|\n",
      "|2020-01-20|  16|Gyeonggi-do|        0|       0|       0|\n",
      "|2020-01-20|  16| Gangwon-do|        0|       0|       0|\n",
      "+----------+----+-----------+---------+--------+--------+\n",
      "only showing top 10 rows\n",
      "\n"
     ]
    }
   ],
   "source": [
    "time_prov_df.show(10)"
   ]
  },
  {
   "cell_type": "code",
   "execution_count": 58,
   "metadata": {},
   "outputs": [
    {
     "data": {
      "text/plain": [
       "174"
      ]
     },
     "execution_count": 58,
     "metadata": {},
     "output_type": "execute_result"
    }
   ],
   "source": [
    "case_df.count()"
   ]
  },
  {
   "cell_type": "code",
   "execution_count": 59,
   "metadata": {},
   "outputs": [
    {
     "data": {
      "text/plain": [
       "244"
      ]
     },
     "execution_count": 59,
     "metadata": {},
     "output_type": "execute_result"
    }
   ],
   "source": [
    "region_df.count()"
   ]
  },
  {
   "cell_type": "code",
   "execution_count": 60,
   "metadata": {},
   "outputs": [
    {
     "data": {
      "text/plain": [
       "2771"
      ]
     },
     "execution_count": 60,
     "metadata": {},
     "output_type": "execute_result"
    }
   ],
   "source": [
    "time_prov_df.count()"
   ]
  },
  {
   "attachments": {},
   "cell_type": "markdown",
   "metadata": {},
   "source": [
    "### Describe the data with a describe function."
   ]
  },
  {
   "cell_type": "code",
   "execution_count": 61,
   "metadata": {},
   "outputs": [
    {
     "data": {
      "text/plain": [
       "DataFrame[summary: string,  case_id: string, province: string, city: string, infection_case: string, confirmed: string, latitude: string, longitude: string]"
      ]
     },
     "execution_count": 61,
     "metadata": {},
     "output_type": "execute_result"
    }
   ],
   "source": [
    "case_df.describe()"
   ]
  },
  {
   "cell_type": "code",
   "execution_count": 62,
   "metadata": {},
   "outputs": [
    {
     "data": {
      "text/plain": [
       "DataFrame[summary: string, code: string, province: string, city: string, latitude: string, longitude: string, elementary_school_count: string, kindergarten_count: string, university_count: string, academy_ratio: string, elderly_population_ratio: string, elderly_alone_ratio: string, nursing_home_count: string]"
      ]
     },
     "execution_count": 62,
     "metadata": {},
     "output_type": "execute_result"
    }
   ],
   "source": [
    "region_df.describe()"
   ]
  },
  {
   "cell_type": "code",
   "execution_count": 63,
   "metadata": {},
   "outputs": [
    {
     "data": {
      "text/plain": [
       "DataFrame[summary: string, time: string, province: string, confirmed: string, released: string, deceased: string]"
      ]
     },
     "execution_count": 63,
     "metadata": {},
     "output_type": "execute_result"
    }
   ],
   "source": [
    "time_prov_df.describe()"
   ]
  },
  {
   "attachments": {},
   "cell_type": "markdown",
   "metadata": {},
   "source": [
    "### If there is any duplicate value drop it."
   ]
  },
  {
   "cell_type": "code",
   "execution_count": 64,
   "metadata": {},
   "outputs": [],
   "source": [
    "case_df1 = case_df.dropDuplicates()"
   ]
  },
  {
   "cell_type": "code",
   "execution_count": 65,
   "metadata": {},
   "outputs": [],
   "source": [
    "region_df1 = region_df.dropDuplicates()"
   ]
  },
  {
   "cell_type": "code",
   "execution_count": 66,
   "metadata": {},
   "outputs": [],
   "source": [
    "time_prov_df1 = time_prov_df.dropDuplicates()"
   ]
  },
  {
   "cell_type": "code",
   "execution_count": 67,
   "metadata": {},
   "outputs": [
    {
     "data": {
      "text/plain": [
       "174"
      ]
     },
     "execution_count": 67,
     "metadata": {},
     "output_type": "execute_result"
    }
   ],
   "source": [
    "case_df1.count()"
   ]
  },
  {
   "cell_type": "code",
   "execution_count": 68,
   "metadata": {},
   "outputs": [
    {
     "data": {
      "text/plain": [
       "244"
      ]
     },
     "execution_count": 68,
     "metadata": {},
     "output_type": "execute_result"
    }
   ],
   "source": [
    "region_df1.count()"
   ]
  },
  {
   "cell_type": "code",
   "execution_count": 69,
   "metadata": {},
   "outputs": [
    {
     "data": {
      "text/plain": [
       "2771"
      ]
     },
     "execution_count": 69,
     "metadata": {},
     "output_type": "execute_result"
    }
   ],
   "source": [
    "time_prov_df1.count()"
   ]
  },
  {
   "attachments": {},
   "cell_type": "markdown",
   "metadata": {},
   "source": [
    "### Use limit function for showcasing a limited number of records."
   ]
  },
  {
   "cell_type": "code",
   "execution_count": 70,
   "metadata": {},
   "outputs": [],
   "source": [
    "case_df1_limit = case_df1.limit(12)"
   ]
  },
  {
   "cell_type": "code",
   "execution_count": 71,
   "metadata": {},
   "outputs": [
    {
     "name": "stdout",
     "output_type": "stream",
     "text": [
      "+--------+-----------------+---------------+-----+--------------------+---------+---------+----------+\n",
      "| case_id|         province|           city|group|      infection_case|confirmed| latitude| longitude|\n",
      "+--------+-----------------+---------------+-----+--------------------+---------+---------+----------+\n",
      "| 1500007|          Daejeon|from other city| true|Seosan-si Laboratory|        2|        -|         -|\n",
      "| 1500004|          Daejeon|         Seo-gu| true|     Dreaming Church|        4|36.346869|127.368594|\n",
      "| 3000002|       Gangwon-do|from other city| true|Uijeongbu St. Mar...|       10|        -|         -|\n",
      "| 1000023|            Seoul|        Jung-gu| true|   KB Life Insurance|       13|37.560899|126.966998|\n",
      "| 1100007|            Busan|from other city| true|Cheongdo Daenam H...|        1|        -|         -|\n",
      "| 4100002|Chungcheongnam-do|from other city| true|Door-to-door sale...|       10|        -|         -|\n",
      "| 5000002|     Jeollabuk-do|from other city| true|Door-to-door sale...|        3|        -|         -|\n",
      "| 1000010|            Seoul|      Gwanak-gu| true|     Wangsung Church|       30|37.481735|126.930121|\n",
      "| 1000030|            Seoul|     Gangseo-gu| true|SJ Investment Cal...|        0|37.559649|126.835102|\n",
      "| 1200008|            Daegu|              -|false|     overseas inflow|       41|        -|         -|\n",
      "| 1300005|          Gwangju|              -|false|                 etc|        1|        -|         -|\n",
      "| 4100001|Chungcheongnam-do|     Cheonan-si| true|gym facility in C...|      103| 36.81503|  127.1139|\n",
      "+--------+-----------------+---------------+-----+--------------------+---------+---------+----------+\n",
      "\n"
     ]
    }
   ],
   "source": [
    "case_df1_limit.show()"
   ]
  },
  {
   "attachments": {},
   "cell_type": "markdown",
   "metadata": {},
   "source": [
    "### If you find the column name is not suitable, change the column name.[optional]"
   ]
  },
  {
   "cell_type": "code",
   "execution_count": 72,
   "metadata": {},
   "outputs": [],
   "source": [
    "renamed_case_df1 = case_df1.withColumnRenamed('province', 'country')"
   ]
  },
  {
   "cell_type": "code",
   "execution_count": 73,
   "metadata": {},
   "outputs": [
    {
     "name": "stdout",
     "output_type": "stream",
     "text": [
      "+--------+-------+---------------+-----+--------------------+---------+---------+----------+\n",
      "| case_id|country|           city|group|      infection_case|confirmed| latitude| longitude|\n",
      "+--------+-------+---------------+-----+--------------------+---------+---------+----------+\n",
      "| 1500007|Daejeon|from other city| true|Seosan-si Laboratory|        2|        -|         -|\n",
      "| 1500004|Daejeon|         Seo-gu| true|     Dreaming Church|        4|36.346869|127.368594|\n",
      "+--------+-------+---------------+-----+--------------------+---------+---------+----------+\n",
      "only showing top 2 rows\n",
      "\n"
     ]
    }
   ],
   "source": [
    "renamed_case_df1.show(2)"
   ]
  },
  {
   "attachments": {},
   "cell_type": "markdown",
   "metadata": {},
   "source": [
    "### Select the subset of the columns."
   ]
  },
  {
   "cell_type": "code",
   "execution_count": 74,
   "metadata": {},
   "outputs": [
    {
     "name": "stdout",
     "output_type": "stream",
     "text": [
      "+--------+--------+---------------+-----+--------------------+---------+---------+----------+\n",
      "| case_id|province|           city|group|      infection_case|confirmed| latitude| longitude|\n",
      "+--------+--------+---------------+-----+--------------------+---------+---------+----------+\n",
      "| 1500007| Daejeon|from other city| true|Seosan-si Laboratory|        2|        -|         -|\n",
      "| 1500004| Daejeon|         Seo-gu| true|     Dreaming Church|        4|36.346869|127.368594|\n",
      "+--------+--------+---------------+-----+--------------------+---------+---------+----------+\n",
      "only showing top 2 rows\n",
      "\n"
     ]
    }
   ],
   "source": [
    "case_df1.show(2)"
   ]
  },
  {
   "cell_type": "code",
   "execution_count": 80,
   "metadata": {},
   "outputs": [
    {
     "name": "stdout",
     "output_type": "stream",
     "text": [
      "root\n",
      " |--  case_id: integer (nullable = true)\n",
      " |-- province: string (nullable = true)\n",
      " |-- city: string (nullable = true)\n",
      " |-- group: boolean (nullable = true)\n",
      " |-- infection_case: string (nullable = true)\n",
      " |-- confirmed: integer (nullable = true)\n",
      " |-- latitude: string (nullable = true)\n",
      " |-- longitude: string (nullable = true)\n",
      "\n"
     ]
    }
   ],
   "source": [
    "case_df1.printSchema()"
   ]
  },
  {
   "cell_type": "code",
   "execution_count": 85,
   "metadata": {},
   "outputs": [
    {
     "name": "stdout",
     "output_type": "stream",
     "text": [
      "+--------+----------+\n",
      "| case_id|  province|\n",
      "+--------+----------+\n",
      "| 1500007|   Daejeon|\n",
      "| 1500004|   Daejeon|\n",
      "| 3000002|Gangwon-do|\n",
      "| 1000023|     Seoul|\n",
      "| 1100007|     Busan|\n",
      "+--------+----------+\n",
      "only showing top 5 rows\n",
      "\n"
     ]
    }
   ],
   "source": [
    "selected_data = case_df1.select(\" case_id\",'province')\n",
    "selected_data.show(5)"
   ]
  },
  {
   "cell_type": "code",
   "execution_count": 87,
   "metadata": {},
   "outputs": [],
   "source": [
    "dropped_case_df1 = case_df1.dropna()"
   ]
  },
  {
   "cell_type": "code",
   "execution_count": 88,
   "metadata": {},
   "outputs": [
    {
     "data": {
      "text/plain": [
       "174"
      ]
     },
     "execution_count": 88,
     "metadata": {},
     "output_type": "execute_result"
    }
   ],
   "source": [
    "dropped_case_df1.count()"
   ]
  },
  {
   "cell_type": "code",
   "execution_count": 89,
   "metadata": {},
   "outputs": [
    {
     "name": "stdout",
     "output_type": "stream",
     "text": [
      "+--------+----------+---------------+-----+--------------------+---------+---------+----------+\n",
      "| case_id|  province|           city|group|      infection_case|confirmed| latitude| longitude|\n",
      "+--------+----------+---------------+-----+--------------------+---------+---------+----------+\n",
      "| 1500007|   Daejeon|from other city| true|Seosan-si Laboratory|        2|        -|         -|\n",
      "| 1500004|   Daejeon|         Seo-gu| true|     Dreaming Church|        4|36.346869|127.368594|\n",
      "| 3000002|Gangwon-do|from other city| true|Uijeongbu St. Mar...|       10|        -|         -|\n",
      "| 1000023|     Seoul|        Jung-gu| true|   KB Life Insurance|       13|37.560899|126.966998|\n",
      "| 1100007|     Busan|from other city| true|Cheongdo Daenam H...|        1|        -|         -|\n",
      "+--------+----------+---------------+-----+--------------------+---------+---------+----------+\n",
      "only showing top 5 rows\n",
      "\n"
     ]
    }
   ],
   "source": [
    "case_df1.show(5)"
   ]
  },
  {
   "cell_type": "code",
   "execution_count": 102,
   "metadata": {},
   "outputs": [
    {
     "name": "stdout",
     "output_type": "stream",
     "text": [
      "+--------+--------+------------+-----+--------------------+---------+---------+----------+\n",
      "| case_id|province|        city|group|      infection_case|confirmed| latitude| longitude|\n",
      "+--------+--------+------------+-----+--------------------+---------+---------+----------+\n",
      "| 1200008|   Daegu|           -|false|     overseas inflow|       41|        -|         -|\n",
      "| 1200005|   Daegu|     Dong-gu| true|     Fatima Hospital|       39| 35.88395|128.624059|\n",
      "| 1200004|   Daegu|Dalseong-gun| true|Daesil Convalesce...|      101|35.857393|128.466653|\n",
      "| 1200009|   Daegu|           -|false|contact with patient|      917|        -|         -|\n",
      "| 1200002|   Daegu|Dalseong-gun| true|Second Mi-Ju Hosp...|      196|35.857375|128.466651|\n",
      "| 1200010|   Daegu|           -|false|                 etc|      747|        -|         -|\n",
      "| 1200001|   Daegu|      Nam-gu| true|  Shincheonji Church|     4511| 35.84008|  128.5667|\n",
      "| 1200003|   Daegu|      Seo-gu| true|Hansarang Convale...|      124|35.885592|128.556649|\n",
      "+--------+--------+------------+-----+--------------------+---------+---------+----------+\n",
      "\n"
     ]
    }
   ],
   "source": [
    "filtered_case_df1 = case_df1.filter((case_df1.province == 'Daegu') & (case_df1.confirmed > 10))\n",
    "filtered_case_df1.show(10)"
   ]
  },
  {
   "cell_type": "code",
   "execution_count": 99,
   "metadata": {},
   "outputs": [
    {
     "name": "stdout",
     "output_type": "stream",
     "text": [
      "+--------+-----------------+---------------+-----+--------------------+---------+---------+----------+\n",
      "| case_id|         province|           city|group|      infection_case|confirmed| latitude| longitude|\n",
      "+--------+-----------------+---------------+-----+--------------------+---------+---------+----------+\n",
      "| 1500007|          Daejeon|from other city| true|Seosan-si Laboratory|        2|        -|         -|\n",
      "| 1500004|          Daejeon|         Seo-gu| true|     Dreaming Church|        4|36.346869|127.368594|\n",
      "| 3000002|       Gangwon-do|from other city| true|Uijeongbu St. Mar...|       10|        -|         -|\n",
      "| 1100007|            Busan|from other city| true|Cheongdo Daenam H...|        1|        -|         -|\n",
      "| 4100002|Chungcheongnam-do|from other city| true|Door-to-door sale...|       10|        -|         -|\n",
      "| 5000002|     Jeollabuk-do|from other city| true|Door-to-door sale...|        3|        -|         -|\n",
      "| 1000030|            Seoul|     Gangseo-gu| true|SJ Investment Cal...|        0|37.559649|126.835102|\n",
      "| 1200008|            Daegu|              -|false|     overseas inflow|       41|        -|         -|\n",
      "| 1300005|          Gwangju|              -|false|                 etc|        1|        -|         -|\n",
      "| 4100001|Chungcheongnam-do|     Cheonan-si| true|gym facility in C...|      103| 36.81503|  127.1139|\n",
      "+--------+-----------------+---------------+-----+--------------------+---------+---------+----------+\n",
      "only showing top 10 rows\n",
      "\n"
     ]
    }
   ],
   "source": [
    "filtered_case_df1 = case_df1.filter((case_df1.province != 'Seoul') | (case_df1.confirmed < 5))\n",
    "filtered_case_df1.show(10)"
   ]
  },
  {
   "cell_type": "code",
   "execution_count": 101,
   "metadata": {},
   "outputs": [
    {
     "name": "stdout",
     "output_type": "stream",
     "text": [
      "+--------+--------+---------------+-----+--------------------+---------+----------+\n",
      "| case_id|province|           city|group|      infection_case|confirmed| longitude|\n",
      "+--------+--------+---------------+-----+--------------------+---------+----------+\n",
      "| 1500007| Daejeon|from other city| true|Seosan-si Laboratory|        2|         -|\n",
      "| 1500004| Daejeon|         Seo-gu| true|     Dreaming Church|        4|127.368594|\n",
      "+--------+--------+---------------+-----+--------------------+---------+----------+\n",
      "only showing top 2 rows\n",
      "\n"
     ]
    }
   ],
   "source": [
    "drop_filter = filtered_case_df1.drop('latitude')\n",
    "drop_filter.show(2)"
   ]
  },
  {
   "cell_type": "code",
   "execution_count": 109,
   "metadata": {},
   "outputs": [
    {
     "name": "stdout",
     "output_type": "stream",
     "text": [
      "+--------+------------+---------------+-----+--------------------+---------+---------+----------+\n",
      "| case_id|    province|           city|group|      infection_case|confirmed| latitude| longitude|\n",
      "+--------+------------+---------------+-----+--------------------+---------+---------+----------+\n",
      "| 1000030|       Seoul|     Gangseo-gu| true|SJ Investment Cal...|        0|37.559649|126.835102|\n",
      "| 7000002|     Jeju-do|              -|false|contact with patient|        0|        -|         -|\n",
      "| 3000007|  Gangwon-do|              -|false|contact with patient|        0|        -|         -|\n",
      "| 1100007|       Busan|from other city| true|Cheongdo Daenam H...|        1|        -|         -|\n",
      "| 1300005|     Gwangju|              -|false|                 etc|        1|        -|         -|\n",
      "| 1000025|       Seoul|     Gangnam-gu| true|Gangnam Dongin Ch...|        1|37.522331|127.057388|\n",
      "| 5000003|Jeollabuk-do|from other city| true|  Shincheonji Church|        1|        -|         -|\n",
      "| 1700006|      Sejong|              -|false|                 etc|        1|        -|         -|\n",
      "| 1000028|       Seoul|from other city| true|Anyang Gunpo Past...|        1|        -|         -|\n",
      "| 1700003|      Sejong|from other city| true|  Shincheonji Church|        1|        -|         -|\n",
      "+--------+------------+---------------+-----+--------------------+---------+---------+----------+\n",
      "only showing top 10 rows\n",
      "\n"
     ]
    }
   ],
   "source": [
    "case_df1.orderBy('confirmed').show(10)"
   ]
  },
  {
   "cell_type": "code",
   "execution_count": 108,
   "metadata": {},
   "outputs": [
    {
     "name": "stdout",
     "output_type": "stream",
     "text": [
      "+--------+----------------+---------------+-----+--------------------+---------+---------+----------+\n",
      "| case_id|        province|           city|group|      infection_case|confirmed| latitude| longitude|\n",
      "+--------+----------------+---------------+-----+--------------------+---------+---------+----------+\n",
      "| 1200001|           Daegu|         Nam-gu| true|  Shincheonji Church|     4511| 35.84008|  128.5667|\n",
      "| 1200009|           Daegu|              -|false|contact with patient|      917|        -|         -|\n",
      "| 1200010|           Daegu|              -|false|                 etc|      747|        -|         -|\n",
      "| 6000001|Gyeongsangbuk-do|from other city| true|  Shincheonji Church|      566|        -|         -|\n",
      "| 2000020|     Gyeonggi-do|              -|false|     overseas inflow|      305|        -|         -|\n",
      "| 1000036|           Seoul|              -|false|     overseas inflow|      298|        -|         -|\n",
      "| 1200002|           Daegu|   Dalseong-gun| true|Second Mi-Ju Hosp...|      196|35.857375|128.466651|\n",
      "| 6000012|Gyeongsangbuk-do|              -|false|contact with patient|      190|        -|         -|\n",
      "| 1000037|           Seoul|              -|false|contact with patient|      162|        -|         -|\n",
      "| 1000001|           Seoul|     Yongsan-gu| true|       Itaewon Clubs|      139|37.538621|126.992652|\n",
      "+--------+----------------+---------------+-----+--------------------+---------+---------+----------+\n",
      "only showing top 10 rows\n",
      "\n"
     ]
    }
   ],
   "source": [
    "case_df1.orderBy(desc('confirmed')).show(10)"
   ]
  },
  {
   "cell_type": "code",
   "execution_count": 110,
   "metadata": {},
   "outputs": [
    {
     "name": "stdout",
     "output_type": "stream",
     "text": [
      "root\n",
      " |--  case_id: integer (nullable = true)\n",
      " |-- province: string (nullable = true)\n",
      " |-- city: string (nullable = true)\n",
      " |-- group: boolean (nullable = true)\n",
      " |-- infection_case: string (nullable = true)\n",
      " |-- confirmed: integer (nullable = true)\n",
      " |-- latitude: string (nullable = true)\n",
      " |-- longitude: string (nullable = true)\n",
      "\n"
     ]
    }
   ],
   "source": [
    "case_df1.printSchema()"
   ]
  },
  {
   "cell_type": "code",
   "execution_count": 112,
   "metadata": {},
   "outputs": [
    {
     "name": "stdout",
     "output_type": "stream",
     "text": [
      "root\n",
      " |--  case_id: integer (nullable = true)\n",
      " |-- province: string (nullable = true)\n",
      " |-- city: string (nullable = true)\n",
      " |-- group: boolean (nullable = true)\n",
      " |-- infection_case: string (nullable = true)\n",
      " |-- confirmed: integer (nullable = true)\n",
      " |-- latitude: integer (nullable = true)\n",
      " |-- longitude: string (nullable = true)\n",
      "\n"
     ]
    }
   ],
   "source": [
    "case_df2 = case_df1.withColumn('latitude', col('latitude').cast('integer'))\n",
    "case_df2.printSchema()"
   ]
  },
  {
   "cell_type": "code",
   "execution_count": 116,
   "metadata": {},
   "outputs": [
    {
     "name": "stdout",
     "output_type": "stream",
     "text": [
      "+----------------+---------------+---------------+\n",
      "|        province|           city|total_confirmed|\n",
      "+----------------+---------------+---------------+\n",
      "|Gyeongsangnam-do|       Jinju-si|              9|\n",
      "|           Seoul|     Gangnam-gu|             18|\n",
      "|           Seoul|        Guro-gu|            139|\n",
      "|    Jeollabuk-do|from other city|              6|\n",
      "|         Daejeon|              -|            100|\n",
      "|Gyeongsangnam-do|Changnyeong-gun|              7|\n",
      "|           Seoul|              -|            561|\n",
      "|         Jeju-do|from other city|              1|\n",
      "|Gyeongsangbuk-do|              -|            345|\n",
      "|Gyeongsangnam-do|   Geochang-gun|             18|\n",
      "|Gyeongsangbuk-do|        Gumi-si|             10|\n",
      "|         Incheon|from other city|            117|\n",
      "|           Busan|              -|             85|\n",
      "|           Daegu|         Seo-gu|            124|\n",
      "|     Gyeonggi-do|   Uijeongbu-si|             50|\n",
      "|           Busan|     Suyeong-gu|              5|\n",
      "|           Seoul|     Yongsan-gu|            139|\n",
      "|           Daegu|              -|           1705|\n",
      "|           Seoul|   Seodaemun-gu|              5|\n",
      "|     Gyeonggi-do|    Seongnam-si|             94|\n",
      "+----------------+---------------+---------------+\n",
      "only showing top 20 rows\n",
      "\n"
     ]
    }
   ],
   "source": [
    "grouped_df = case_df1.groupBy('province', 'city').agg(sum('confirmed').alias('total_confirmed'))\n",
    "grouped_df.show()"
   ]
  },
  {
   "cell_type": "code",
   "execution_count": 117,
   "metadata": {},
   "outputs": [
    {
     "name": "stdout",
     "output_type": "stream",
     "text": [
      "+-----------------+---------------+--------+-----+--------------------+---------+---------+----------+-----+---------+----------+-----------------------+------------------+----------------+-------------+------------------------+-------------------+------------------+\n",
      "|         province|           city| case_id|group|      infection_case|confirmed| latitude| longitude| code| latitude| longitude|elementary_school_count|kindergarten_count|university_count|academy_ratio|elderly_population_ratio|elderly_alone_ratio|nursing_home_count|\n",
      "+-----------------+---------------+--------+-----+--------------------+---------+---------+----------+-----+---------+----------+-----------------------+------------------+----------------+-------------+------------------------+-------------------+------------------+\n",
      "|          Daejeon|from other city| 1500007| true|Seosan-si Laboratory|        2|        -|         -| null|     null|      null|                   null|              null|            null|         null|                    null|               null|              null|\n",
      "|          Daejeon|         Seo-gu| 1500004| true|     Dreaming Church|        4|36.346869|127.368594|15030| 36.35553|127.383755|                     39|                78|               3|         1.81|                   12.05|                4.9|              1123|\n",
      "|       Gangwon-do|from other city| 3000002| true|Uijeongbu St. Mar...|       10|        -|         -| null|     null|      null|                   null|              null|            null|         null|                    null|               null|              null|\n",
      "|            Seoul|        Jung-gu| 1000023| true|   KB Life Insurance|       13|37.560899|126.966998|10240|37.563988| 126.99753|                     12|                14|               2|         0.94|                   18.42|                7.4|               728|\n",
      "|            Busan|from other city| 1100007| true|Cheongdo Daenam H...|        1|        -|         -| null|     null|      null|                   null|              null|            null|         null|                    null|               null|              null|\n",
      "|Chungcheongnam-do|from other city| 4100002| true|Door-to-door sale...|       10|        -|         -| null|     null|      null|                   null|              null|            null|         null|                    null|               null|              null|\n",
      "|     Jeollabuk-do|from other city| 5000002| true|Door-to-door sale...|        3|        -|         -| null|     null|      null|                   null|              null|            null|         null|                    null|               null|              null|\n",
      "|            Seoul|      Gwanak-gu| 1000010| true|     Wangsung Church|       30|37.481735|126.930121|10050| 37.47829|126.951502|                     22|                33|               1|         0.89|                   15.12|                4.9|               909|\n",
      "|            Seoul|     Gangseo-gu| 1000030| true|SJ Investment Cal...|        0|37.559649|126.835102|10040|37.551166|126.849506|                     36|                56|               1|         1.17|                   14.39|                5.7|              1080|\n",
      "|            Daegu|              -| 1200008|false|     overseas inflow|       41|        -|         -| null|     null|      null|                   null|              null|            null|         null|                    null|               null|              null|\n",
      "+-----------------+---------------+--------+-----+--------------------+---------+---------+----------+-----+---------+----------+-----------------------+------------------+----------------+-------------+------------------------+-------------------+------------------+\n",
      "only showing top 10 rows\n",
      "\n"
     ]
    }
   ],
   "source": [
    "joined_df = case_df1.join(region_df1,['province','city'], how='left')\n",
    "joined_df.show(10)"
   ]
  },
  {
   "cell_type": "code",
   "execution_count": null,
   "metadata": {},
   "outputs": [],
   "source": [
    "from pyspark.sql.functions import udf\n",
    "from pyspark.sql.types import StringType\n",
    "\n",
    "def casehighlow(confirmed):\n",
    "    if confirmed < 50:\n",
    "        return 'low'\n",
    "    else:\n",
    "        return 'high'\n",
    "\n",
    "casehighlow_udf = udf(casehighlow, StringType())\n",
    "\n",
    "case_df1 = case_df1.withColumn('case_category', casehighlow_udf(case_df1['confirmed']))\n",
    "\n",
    "case_df1.show()\n"
   ]
  }
 ],
 "metadata": {
  "kernelspec": {
   "display_name": "Python 3",
   "language": "python",
   "name": "python3"
  },
  "language_info": {
   "codemirror_mode": {
    "name": "ipython",
    "version": 3
   },
   "file_extension": ".py",
   "mimetype": "text/x-python",
   "name": "python",
   "nbconvert_exporter": "python",
   "pygments_lexer": "ipython3",
   "version": "3.11.1"
  },
  "orig_nbformat": 4
 },
 "nbformat": 4,
 "nbformat_minor": 2
}
